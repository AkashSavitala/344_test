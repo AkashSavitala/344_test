{
 "cells": [
  {
   "cell_type": "code",
   "execution_count": null,
   "id": "05ff2da4",
   "metadata": {
    "vscode": {
     "languageId": "plaintext"
    }
   },
   "outputs": [],
   "source": [
    "# STEP 1: INSTALL PACKAGES (run this once if needed)\n",
    "# The '!' allows you to run shell commands from a Jupyter cell.\n",
    "# !pip install numpy matplotlib scikit-learn"
   ]
  },
  {
   "cell_type": "code",
   "execution_count": null,
   "id": "c5ddddae",
   "metadata": {},
   "outputs": [],
   "source": [
    "# STEP 2: IMPORT LIBRARIES AND CREATE DATA\n",
    "import numpy as np\n",
    "import matplotlib.pyplot as plt\n",
    "from sklearn.linear_model import LinearRegression\n",
    "\n",
    "# Set a random seed for reproducibility, so the results are the same every time\n",
    "np.random.seed(42)\n",
    "\n",
    "# Create synthetic data with a linear relationship\n",
    "# Generate 50 random data points for our feature (X)\n",
    "X = 10 * np.random.rand(50)\n",
    "\n",
    "# Generate our target (y) based on X, with some random noise added\n",
    "# True relationship: y = 2*X + 5\n",
    "y = 2 * X + 5 + np.random.randn(50) * 2\n",
    "\n",
    "# Scikit-learn models require the feature array (X) to be 2D, \n",
    "# so we reshape it from a 1D array to a 2D array.\n",
    "X_reshaped = X.reshape(-1, 1)"
   ]
  },
  {
   "cell_type": "code",
   "execution_count": null,
   "id": "fe1ecba0",
   "metadata": {},
   "outputs": [],
   "source": [
    "# STEP 3: PLOT THE RAW DATA\n",
    "# It's always a good idea to visualize your data before training a model.\n",
    "plt.figure(figsize=(10, 6))\n",
    "plt.scatter(X, y, alpha=0.7) # Create a scatter plot\n",
    "plt.title('Scatter Plot of Synthetic Data')\n",
    "plt.xlabel('Feature (X)')\n",
    "plt.ylabel('Target (y)')\n",
    "plt.grid(True)\n",
    "plt.show()"
   ]
  },
  {
   "cell_type": "code",
   "execution_count": null,
   "id": "9fd3e3d2",
   "metadata": {},
   "outputs": [],
   "source": [
    "# STEP 4: TRAIN A SIMPLE MACHINE LEARNING MODEL (LINEAR REGRESSION)\n",
    "# 1. Create an instance of the model\n",
    "model = LinearRegression()\n",
    "\n",
    "# 2. Train the model on the data using the .fit() method\n",
    "model.fit(X_reshaped, y)\n",
    "\n",
    "# 3. Print the parameters the model learned\n",
    "# The slope (coefficient) and intercept form the equation of the line: y = slope*X + intercept\n",
    "slope = model.coef_[0]\n",
    "intercept = model.intercept_\n",
    "\n",
    "print(f\"Model Learned Slope (Coefficient): {slope:.4f}\")\n",
    "print(f\"Model Learned Intercept: {intercept:.4f}\")"
   ]
  },
  {
   "cell_type": "code",
   "execution_count": null,
   "id": "7faf77f2",
   "metadata": {},
   "outputs": [],
   "source": [
    "# STEP 5: PLOT THE RESULTS\n",
    "# Use the trained model to make predictions on the feature data\n",
    "y_predicted = model.predict(X_reshaped)\n",
    "\n",
    "# Plot the original data points\n",
    "plt.figure(figsize=(10, 6))\n",
    "plt.scatter(X, y, alpha=0.7, label='Original Data')\n",
    "\n",
    "# Plot the regression line learned by the model\n",
    "plt.plot(X, y_predicted, color='red', linewidth=2, label='Regression Line')\n",
    "\n",
    "# Add titles, labels, and a legend for clarity\n",
    "plt.title('Linear Regression Fit')\n",
    "plt.xlabel('Feature (X)')\n",
    "plt.ylabel('Target (y)')\n",
    "plt.legend()\n",
    "plt.grid(True)\n",
    "plt.show()"
   ]
  }
 ],
 "metadata": {
  "language_info": {
   "name": "python"
  }
 },
 "nbformat": 4,
 "nbformat_minor": 5
}
