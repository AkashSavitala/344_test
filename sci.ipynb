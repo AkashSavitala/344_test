{
 "cells": [
  {
   "cell_type": "code",
   "execution_count": null,
   "id": "05ff2da4",
   "metadata": {
    "id": "05ff2da4",
    "vscode": {
     "languageId": "plaintext"
    }
   },
   "outputs": [],
   "source": [
    "# STEP 1: INSTALL PACKAGES\n",
    "\n",
    "# ----------------------------------------------------\n",
    "# Scenario 1: Install the LATEST stable version (Your original code)\n",
    "# If you don't specify a version, pip defaults to installing the latest one.\n",
    "# ----------------------------------------------------\n",
    "print(\"--- Installing the latest versions ---\")\n",
    "!pip install numpy matplotlib scikit-learn"
   ]
  },
  {
   "cell_type": "code",
   "execution_count": null,
   "id": "4243bdac",
   "metadata": {},
   "outputs": [],
   "source": [
    "\n",
    "# ----------------------------------------------------\n",
    "# Scenario 2: Install an EXACT version\n",
    "# Use \"==\" to specify the exact version number.\n",
    "# For example, let's install version 1.2.2 of scikit-learn.\n",
    "# ----------------------------------------------------\n",
    "print(\"\\n--- Installing scikit-learn version 1.2.2 ---\")\n",
    "!pip install scikit-learn==1.2.2\n"
   ]
  },
  {
   "cell_type": "code",
   "execution_count": null,
   "id": "ae369a46",
   "metadata": {},
   "outputs": [],
   "source": [
    "# ----------------------------------------------------\n",
    "# Scenario 3: Install a MINIMUM version\n",
    "# Use \">=\" to ensure the version is not older than required.\n",
    "# For example, install numpy version 1.23.0 or newer.\n",
    "# ----------------------------------------------------\n",
    "print(\"\\n--- Installing numpy version 1.23.0 or newer ---\")\n",
    "!pip install \"numpy>=1.26.3\"\n"
   ]
  },
  {
   "cell_type": "code",
   "execution_count": null,
   "id": "0689b442",
   "metadata": {},
   "outputs": [],
   "source": [
    "# ----------------------------------------------------\n",
    "# Scenario 4: Install a version within a RANGE\n",
    "# You can combine operators. For example, to install a numpy version that is >= 1.22.0 but < 1.23.0.\n",
    "# Note: When using characters like < or >, it's a good practice to wrap the\n",
    "# package and version in quotes to prevent shell interpretation errors.\n",
    "# ----------------------------------------------------\n",
    "print(\"\\n--- Installing a numpy version in the 1.22.x range ---\")\n",
    "!pip install \"numpy>=1.22.0,<1.23.0\"\n",
    "\n",
    "# ----------------------------------------------------\n",
    "# Scenario 5: Combined installation\n",
    "# You can specify different version requirements for multiple packages in a single command.\n",
    "# ----------------------------------------------------\n",
    "print(\"\\n--- Performing a combined installation with different versions ---\")\n",
    "!pip install numpy==1.23.5 matplotlib>=3.6.0 \"scikit-learn<1.3.0\""
   ]
  },
  {
   "cell_type": "code",
   "execution_count": null,
   "id": "c5ddddae",
   "metadata": {
    "id": "c5ddddae"
   },
   "outputs": [],
   "source": [
    "# STEP 2: IMPORT LIBRARIES AND CREATE DATA\n",
    "import numpy as np\n",
    "import matplotlib.pyplot as plt\n",
    "from sklearn.linear_model import LinearRegression, Ridge\n",
    "\n",
    "# Set a random seed for reproducibility, so the results are the same every time\n",
    "np.random.seed(42)\n",
    "\n",
    "# Create synthetic data with a linear relationship\n",
    "# Generate 50 random data points for our feature (X)\n",
    "X = 10 * np.random.rand(50)\n",
    "\n",
    "# Generate our target (y) based on X, with some random noise added\n",
    "# True relationship: y = 2*X + 5\n",
    "y = 2 * X + 5 + np.random.randn(50) * 2\n",
    "\n",
    "# Scikit-learn models require the feature array (X) to be 2D,\n",
    "# so we reshape it from a 1D array to a 2D array.\n",
    "X_reshaped = X.reshape(-1, 1)"
   ]
  },
  {
   "cell_type": "code",
   "execution_count": null,
   "id": "fe1ecba0",
   "metadata": {
    "colab": {
     "base_uri": "https://localhost:8080/",
     "height": 564
    },
    "id": "fe1ecba0",
    "outputId": "9a958ffa-56dd-4279-c1b0-c76641c5d211"
   },
   "outputs": [],
   "source": [
    "# STEP 3: PLOT THE RAW DATA\n",
    "# It's always a good idea to visualize your data before training a model.\n",
    "plt.figure(figsize=(10, 6))\n",
    "plt.scatter(X, y, alpha=0.7) # Create a scatter plot\n",
    "plt.title('Scatter Plot of Synthetic Data')\n",
    "plt.xlabel('Feature (X)')\n",
    "plt.ylabel('Target (y)')\n",
    "plt.grid(True)\n",
    "plt.show()"
   ]
  },
  {
   "cell_type": "code",
   "execution_count": null,
   "id": "9fd3e3d2",
   "metadata": {
    "colab": {
     "base_uri": "https://localhost:8080/"
    },
    "id": "9fd3e3d2",
    "outputId": "af928d27-11c9-4ff7-ccf9-5a230390e9e1"
   },
   "outputs": [],
   "source": [
    "# STEP 4: TRAIN A SIMPLE MACHINE LEARNING MODEL (LINEAR REGRESSION)\n",
    "# 1. Create an instance of the model\n",
    "model = LinearRegression()\n",
    "\n",
    "# 1.1 We can try another model\n",
    "# model = Ridge(alpha=1.0) # You can tune this value\n",
    "\n",
    "\n",
    "# 2. Train the model on the data using the .fit() method\n",
    "model.fit(X_reshaped, y)\n",
    "\n",
    "# 3. Print the parameters the model learned\n",
    "# The slope (coefficient) and intercept form the equation of the line: y = slope*X + intercept\n",
    "slope = model.coef_[0]\n",
    "intercept = model.intercept_\n",
    "\n",
    "print(f\"Model Learned Slope (Coefficient): {slope:.4f}\")\n",
    "print(f\"Model Learned Intercept: {intercept:.4f}\")"
   ]
  },
  {
   "cell_type": "code",
   "execution_count": null,
   "id": "7faf77f2",
   "metadata": {
    "colab": {
     "base_uri": "https://localhost:8080/",
     "height": 564
    },
    "id": "7faf77f2",
    "outputId": "63db66bb-767b-4b36-b10b-6f1b27cc860f"
   },
   "outputs": [],
   "source": [
    "# STEP 5: PLOT THE RESULTS\n",
    "# Use the trained model to make predictions on the feature data\n",
    "y_predicted = model.predict(X_reshaped)\n",
    "\n",
    "# Plot the original data points\n",
    "plt.figure(figsize=(10, 6))\n",
    "plt.scatter(X, y, alpha=0.7, label='Original Data')\n",
    "\n",
    "# Plot the regression line learned by the model\n",
    "plt.plot(X, y_predicted, color='red', linewidth=2, label='Regression Line')\n",
    "\n",
    "# Add titles, labels, and a legend for clarity\n",
    "plt.title('Linear Regression Fit')\n",
    "plt.xlabel('Feature (X)')\n",
    "plt.ylabel('Target (y)')\n",
    "plt.legend()\n",
    "plt.grid(True)\n",
    "plt.show()"
   ]
  }
 ],
 "metadata": {
  "colab": {
   "provenance": []
  },
  "kernelspec": {
   "display_name": "Python 3 (ipykernel)",
   "language": "python",
   "name": "python3"
  },
  "language_info": {
   "codemirror_mode": {
    "name": "ipython",
    "version": 3
   },
   "file_extension": ".py",
   "mimetype": "text/x-python",
   "name": "python",
   "nbconvert_exporter": "python",
   "pygments_lexer": "ipython3",
   "version": "3.11.4"
  }
 },
 "nbformat": 4,
 "nbformat_minor": 5
}
